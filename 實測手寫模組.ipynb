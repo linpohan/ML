{
  "nbformat": 4,
  "nbformat_minor": 0,
  "metadata": {
    "colab": {
      "name": "實測手寫模組.ipynb",
      "provenance": [],
      "mount_file_id": "1MxsTdd9l17Etu2gio8serkN1FkPjQDA_",
      "authorship_tag": "ABX9TyPqcGSz5CGQOpJAV4pD+Wev",
      "include_colab_link": true
    },
    "kernelspec": {
      "name": "python3",
      "display_name": "Python 3"
    },
    "language_info": {
      "name": "python"
    }
  },
  "cells": [
    {
      "cell_type": "markdown",
      "metadata": {
        "id": "view-in-github",
        "colab_type": "text"
      },
      "source": [
        "<a href=\"https://colab.research.google.com/github/linpohan/ML/blob/main/%E5%AF%A6%E6%B8%AC%E6%89%8B%E5%AF%AB%E6%A8%A1%E7%B5%84.ipynb\" target=\"_parent\"><img src=\"https://colab.research.google.com/assets/colab-badge.svg\" alt=\"Open In Colab\"/></a>"
      ]
    },
    {
      "cell_type": "code",
      "metadata": {
        "colab": {
          "base_uri": "https://localhost:8080/"
        },
        "id": "ripgceqt4YoA",
        "outputId": "21fc8ea4-0829-46ae-a111-4a08434ddfae"
      },
      "source": [
        "!pip install gradio"
      ],
      "execution_count": 1,
      "outputs": [
        {
          "output_type": "stream",
          "name": "stdout",
          "text": [
            "Collecting gradio\n",
            "  Downloading gradio-2.4.6-py3-none-any.whl (979 kB)\n",
            "\u001b[?25l\r\u001b[K     |▍                               | 10 kB 24.8 MB/s eta 0:00:01\r\u001b[K     |▊                               | 20 kB 27.3 MB/s eta 0:00:01\r\u001b[K     |█                               | 30 kB 30.9 MB/s eta 0:00:01\r\u001b[K     |█▍                              | 40 kB 33.6 MB/s eta 0:00:01\r\u001b[K     |█▊                              | 51 kB 36.6 MB/s eta 0:00:01\r\u001b[K     |██                              | 61 kB 30.1 MB/s eta 0:00:01\r\u001b[K     |██▍                             | 71 kB 29.1 MB/s eta 0:00:01\r\u001b[K     |██▊                             | 81 kB 30.2 MB/s eta 0:00:01\r\u001b[K     |███                             | 92 kB 31.3 MB/s eta 0:00:01\r\u001b[K     |███▍                            | 102 kB 27.8 MB/s eta 0:00:01\r\u001b[K     |███▊                            | 112 kB 27.8 MB/s eta 0:00:01\r\u001b[K     |████                            | 122 kB 27.8 MB/s eta 0:00:01\r\u001b[K     |████▍                           | 133 kB 27.8 MB/s eta 0:00:01\r\u001b[K     |████▊                           | 143 kB 27.8 MB/s eta 0:00:01\r\u001b[K     |█████                           | 153 kB 27.8 MB/s eta 0:00:01\r\u001b[K     |█████▍                          | 163 kB 27.8 MB/s eta 0:00:01\r\u001b[K     |█████▊                          | 174 kB 27.8 MB/s eta 0:00:01\r\u001b[K     |██████                          | 184 kB 27.8 MB/s eta 0:00:01\r\u001b[K     |██████▍                         | 194 kB 27.8 MB/s eta 0:00:01\r\u001b[K     |██████▊                         | 204 kB 27.8 MB/s eta 0:00:01\r\u001b[K     |███████                         | 215 kB 27.8 MB/s eta 0:00:01\r\u001b[K     |███████▍                        | 225 kB 27.8 MB/s eta 0:00:01\r\u001b[K     |███████▊                        | 235 kB 27.8 MB/s eta 0:00:01\r\u001b[K     |████████                        | 245 kB 27.8 MB/s eta 0:00:01\r\u001b[K     |████████▍                       | 256 kB 27.8 MB/s eta 0:00:01\r\u001b[K     |████████▊                       | 266 kB 27.8 MB/s eta 0:00:01\r\u001b[K     |█████████                       | 276 kB 27.8 MB/s eta 0:00:01\r\u001b[K     |█████████▍                      | 286 kB 27.8 MB/s eta 0:00:01\r\u001b[K     |█████████▊                      | 296 kB 27.8 MB/s eta 0:00:01\r\u001b[K     |██████████                      | 307 kB 27.8 MB/s eta 0:00:01\r\u001b[K     |██████████▍                     | 317 kB 27.8 MB/s eta 0:00:01\r\u001b[K     |██████████▊                     | 327 kB 27.8 MB/s eta 0:00:01\r\u001b[K     |███████████                     | 337 kB 27.8 MB/s eta 0:00:01\r\u001b[K     |███████████▍                    | 348 kB 27.8 MB/s eta 0:00:01\r\u001b[K     |███████████▊                    | 358 kB 27.8 MB/s eta 0:00:01\r\u001b[K     |████████████                    | 368 kB 27.8 MB/s eta 0:00:01\r\u001b[K     |████████████▍                   | 378 kB 27.8 MB/s eta 0:00:01\r\u001b[K     |████████████▊                   | 389 kB 27.8 MB/s eta 0:00:01\r\u001b[K     |█████████████                   | 399 kB 27.8 MB/s eta 0:00:01\r\u001b[K     |█████████████▍                  | 409 kB 27.8 MB/s eta 0:00:01\r\u001b[K     |█████████████▊                  | 419 kB 27.8 MB/s eta 0:00:01\r\u001b[K     |██████████████                  | 430 kB 27.8 MB/s eta 0:00:01\r\u001b[K     |██████████████▍                 | 440 kB 27.8 MB/s eta 0:00:01\r\u001b[K     |██████████████▊                 | 450 kB 27.8 MB/s eta 0:00:01\r\u001b[K     |███████████████                 | 460 kB 27.8 MB/s eta 0:00:01\r\u001b[K     |███████████████▍                | 471 kB 27.8 MB/s eta 0:00:01\r\u001b[K     |███████████████▊                | 481 kB 27.8 MB/s eta 0:00:01\r\u001b[K     |████████████████                | 491 kB 27.8 MB/s eta 0:00:01\r\u001b[K     |████████████████▍               | 501 kB 27.8 MB/s eta 0:00:01\r\u001b[K     |████████████████▊               | 512 kB 27.8 MB/s eta 0:00:01\r\u001b[K     |█████████████████               | 522 kB 27.8 MB/s eta 0:00:01\r\u001b[K     |█████████████████▍              | 532 kB 27.8 MB/s eta 0:00:01\r\u001b[K     |█████████████████▊              | 542 kB 27.8 MB/s eta 0:00:01\r\u001b[K     |██████████████████              | 552 kB 27.8 MB/s eta 0:00:01\r\u001b[K     |██████████████████▍             | 563 kB 27.8 MB/s eta 0:00:01\r\u001b[K     |██████████████████▊             | 573 kB 27.8 MB/s eta 0:00:01\r\u001b[K     |███████████████████             | 583 kB 27.8 MB/s eta 0:00:01\r\u001b[K     |███████████████████▍            | 593 kB 27.8 MB/s eta 0:00:01\r\u001b[K     |███████████████████▊            | 604 kB 27.8 MB/s eta 0:00:01\r\u001b[K     |████████████████████            | 614 kB 27.8 MB/s eta 0:00:01\r\u001b[K     |████████████████████▍           | 624 kB 27.8 MB/s eta 0:00:01\r\u001b[K     |████████████████████▊           | 634 kB 27.8 MB/s eta 0:00:01\r\u001b[K     |█████████████████████           | 645 kB 27.8 MB/s eta 0:00:01\r\u001b[K     |█████████████████████▍          | 655 kB 27.8 MB/s eta 0:00:01\r\u001b[K     |█████████████████████▊          | 665 kB 27.8 MB/s eta 0:00:01\r\u001b[K     |██████████████████████          | 675 kB 27.8 MB/s eta 0:00:01\r\u001b[K     |██████████████████████▍         | 686 kB 27.8 MB/s eta 0:00:01\r\u001b[K     |██████████████████████▊         | 696 kB 27.8 MB/s eta 0:00:01\r\u001b[K     |███████████████████████         | 706 kB 27.8 MB/s eta 0:00:01\r\u001b[K     |███████████████████████▍        | 716 kB 27.8 MB/s eta 0:00:01\r\u001b[K     |███████████████████████▊        | 727 kB 27.8 MB/s eta 0:00:01\r\u001b[K     |████████████████████████        | 737 kB 27.8 MB/s eta 0:00:01\r\u001b[K     |████████████████████████▍       | 747 kB 27.8 MB/s eta 0:00:01\r\u001b[K     |████████████████████████▊       | 757 kB 27.8 MB/s eta 0:00:01\r\u001b[K     |█████████████████████████       | 768 kB 27.8 MB/s eta 0:00:01\r\u001b[K     |█████████████████████████▍      | 778 kB 27.8 MB/s eta 0:00:01\r\u001b[K     |█████████████████████████▊      | 788 kB 27.8 MB/s eta 0:00:01\r\u001b[K     |██████████████████████████      | 798 kB 27.8 MB/s eta 0:00:01\r\u001b[K     |██████████████████████████▍     | 808 kB 27.8 MB/s eta 0:00:01\r\u001b[K     |██████████████████████████▊     | 819 kB 27.8 MB/s eta 0:00:01\r\u001b[K     |███████████████████████████     | 829 kB 27.8 MB/s eta 0:00:01\r\u001b[K     |███████████████████████████▍    | 839 kB 27.8 MB/s eta 0:00:01\r\u001b[K     |███████████████████████████▉    | 849 kB 27.8 MB/s eta 0:00:01\r\u001b[K     |████████████████████████████▏   | 860 kB 27.8 MB/s eta 0:00:01\r\u001b[K     |████████████████████████████▌   | 870 kB 27.8 MB/s eta 0:00:01\r\u001b[K     |████████████████████████████▉   | 880 kB 27.8 MB/s eta 0:00:01\r\u001b[K     |█████████████████████████████▏  | 890 kB 27.8 MB/s eta 0:00:01\r\u001b[K     |█████████████████████████████▌  | 901 kB 27.8 MB/s eta 0:00:01\r\u001b[K     |█████████████████████████████▉  | 911 kB 27.8 MB/s eta 0:00:01\r\u001b[K     |██████████████████████████████▏ | 921 kB 27.8 MB/s eta 0:00:01\r\u001b[K     |██████████████████████████████▌ | 931 kB 27.8 MB/s eta 0:00:01\r\u001b[K     |██████████████████████████████▉ | 942 kB 27.8 MB/s eta 0:00:01\r\u001b[K     |███████████████████████████████▏| 952 kB 27.8 MB/s eta 0:00:01\r\u001b[K     |███████████████████████████████▌| 962 kB 27.8 MB/s eta 0:00:01\r\u001b[K     |███████████████████████████████▉| 972 kB 27.8 MB/s eta 0:00:01\r\u001b[K     |████████████████████████████████| 979 kB 27.8 MB/s \n",
            "\u001b[?25hCollecting analytics-python\n",
            "  Downloading analytics_python-1.4.0-py2.py3-none-any.whl (15 kB)\n",
            "Collecting Flask-Cors>=3.0.8\n",
            "  Downloading Flask_Cors-3.0.10-py2.py3-none-any.whl (14 kB)\n",
            "Requirement already satisfied: numpy in /usr/local/lib/python3.7/dist-packages (from gradio) (1.19.5)\n",
            "Collecting flask-cachebuster\n",
            "  Downloading Flask-CacheBuster-1.0.0.tar.gz (3.1 kB)\n",
            "Requirement already satisfied: pillow in /usr/local/lib/python3.7/dist-packages (from gradio) (7.1.2)\n",
            "Collecting ffmpy\n",
            "  Downloading ffmpy-0.3.0.tar.gz (4.8 kB)\n",
            "Requirement already satisfied: Flask>=1.1.1 in /usr/local/lib/python3.7/dist-packages (from gradio) (1.1.4)\n",
            "Collecting paramiko\n",
            "  Downloading paramiko-2.8.0-py2.py3-none-any.whl (206 kB)\n",
            "\u001b[K     |████████████████████████████████| 206 kB 60.1 MB/s \n",
            "\u001b[?25hRequirement already satisfied: requests in /usr/local/lib/python3.7/dist-packages (from gradio) (2.23.0)\n",
            "Collecting Flask-Login\n",
            "  Downloading Flask_Login-0.5.0-py2.py3-none-any.whl (16 kB)\n",
            "Collecting markdown2\n",
            "  Downloading markdown2-2.4.1-py2.py3-none-any.whl (34 kB)\n",
            "Collecting pydub\n",
            "  Downloading pydub-0.25.1-py2.py3-none-any.whl (32 kB)\n",
            "Collecting pycryptodome\n",
            "  Downloading pycryptodome-3.11.0-cp35-abi3-manylinux2010_x86_64.whl (1.9 MB)\n",
            "\u001b[K     |████████████████████████████████| 1.9 MB 32.1 MB/s \n",
            "\u001b[?25hRequirement already satisfied: matplotlib in /usr/local/lib/python3.7/dist-packages (from gradio) (3.2.2)\n",
            "Requirement already satisfied: pandas in /usr/local/lib/python3.7/dist-packages (from gradio) (1.1.5)\n",
            "Requirement already satisfied: itsdangerous<2.0,>=0.24 in /usr/local/lib/python3.7/dist-packages (from Flask>=1.1.1->gradio) (1.1.0)\n",
            "Requirement already satisfied: click<8.0,>=5.1 in /usr/local/lib/python3.7/dist-packages (from Flask>=1.1.1->gradio) (7.1.2)\n",
            "Requirement already satisfied: Jinja2<3.0,>=2.10.1 in /usr/local/lib/python3.7/dist-packages (from Flask>=1.1.1->gradio) (2.11.3)\n",
            "Requirement already satisfied: Werkzeug<2.0,>=0.15 in /usr/local/lib/python3.7/dist-packages (from Flask>=1.1.1->gradio) (1.0.1)\n",
            "Requirement already satisfied: Six in /usr/local/lib/python3.7/dist-packages (from Flask-Cors>=3.0.8->gradio) (1.15.0)\n",
            "Requirement already satisfied: MarkupSafe>=0.23 in /usr/local/lib/python3.7/dist-packages (from Jinja2<3.0,>=2.10.1->Flask>=1.1.1->gradio) (2.0.1)\n",
            "Requirement already satisfied: python-dateutil>2.1 in /usr/local/lib/python3.7/dist-packages (from analytics-python->gradio) (2.8.2)\n",
            "Collecting monotonic>=1.5\n",
            "  Downloading monotonic-1.6-py2.py3-none-any.whl (8.2 kB)\n",
            "Collecting backoff==1.10.0\n",
            "  Downloading backoff-1.10.0-py2.py3-none-any.whl (31 kB)\n",
            "Requirement already satisfied: chardet<4,>=3.0.2 in /usr/local/lib/python3.7/dist-packages (from requests->gradio) (3.0.4)\n",
            "Requirement already satisfied: certifi>=2017.4.17 in /usr/local/lib/python3.7/dist-packages (from requests->gradio) (2021.10.8)\n",
            "Requirement already satisfied: urllib3!=1.25.0,!=1.25.1,<1.26,>=1.21.1 in /usr/local/lib/python3.7/dist-packages (from requests->gradio) (1.24.3)\n",
            "Requirement already satisfied: idna<3,>=2.5 in /usr/local/lib/python3.7/dist-packages (from requests->gradio) (2.10)\n",
            "Requirement already satisfied: cycler>=0.10 in /usr/local/lib/python3.7/dist-packages (from matplotlib->gradio) (0.11.0)\n",
            "Requirement already satisfied: pyparsing!=2.0.4,!=2.1.2,!=2.1.6,>=2.0.1 in /usr/local/lib/python3.7/dist-packages (from matplotlib->gradio) (3.0.6)\n",
            "Requirement already satisfied: kiwisolver>=1.0.1 in /usr/local/lib/python3.7/dist-packages (from matplotlib->gradio) (1.3.2)\n",
            "Requirement already satisfied: pytz>=2017.2 in /usr/local/lib/python3.7/dist-packages (from pandas->gradio) (2018.9)\n",
            "Collecting bcrypt>=3.1.3\n",
            "  Downloading bcrypt-3.2.0-cp36-abi3-manylinux2010_x86_64.whl (63 kB)\n",
            "\u001b[K     |████████████████████████████████| 63 kB 2.5 MB/s \n",
            "\u001b[?25hCollecting cryptography>=2.5\n",
            "  Downloading cryptography-36.0.0-cp36-abi3-manylinux_2_24_x86_64.whl (3.6 MB)\n",
            "\u001b[K     |████████████████████████████████| 3.6 MB 42.2 MB/s \n",
            "\u001b[?25hCollecting pynacl>=1.0.1\n",
            "  Downloading PyNaCl-1.4.0-cp35-abi3-manylinux1_x86_64.whl (961 kB)\n",
            "\u001b[K     |████████████████████████████████| 961 kB 52.5 MB/s \n",
            "\u001b[?25hRequirement already satisfied: cffi>=1.1 in /usr/local/lib/python3.7/dist-packages (from bcrypt>=3.1.3->paramiko->gradio) (1.15.0)\n",
            "Requirement already satisfied: pycparser in /usr/local/lib/python3.7/dist-packages (from cffi>=1.1->bcrypt>=3.1.3->paramiko->gradio) (2.21)\n",
            "Building wheels for collected packages: ffmpy, flask-cachebuster\n",
            "  Building wheel for ffmpy (setup.py) ... \u001b[?25l\u001b[?25hdone\n",
            "  Created wheel for ffmpy: filename=ffmpy-0.3.0-py3-none-any.whl size=4710 sha256=581c6e2baed05ba0c445cb71e51958414d58d2fceceb12f150ede113d9b74818\n",
            "  Stored in directory: /root/.cache/pip/wheels/13/e4/6c/e8059816e86796a597c6e6b0d4c880630f51a1fcfa0befd5e6\n",
            "  Building wheel for flask-cachebuster (setup.py) ... \u001b[?25l\u001b[?25hdone\n",
            "  Created wheel for flask-cachebuster: filename=Flask_CacheBuster-1.0.0-py3-none-any.whl size=3371 sha256=ba2f96ee5a10b7017f1c1de2aa42261abc03ce5e8971adec32f5a1779fb2fbf2\n",
            "  Stored in directory: /root/.cache/pip/wheels/28/c0/c4/44687421dab41455be93112bd1b0dee1f3c5a9aa27bee63708\n",
            "Successfully built ffmpy flask-cachebuster\n",
            "Installing collected packages: pynacl, monotonic, cryptography, bcrypt, backoff, pydub, pycryptodome, paramiko, markdown2, Flask-Login, Flask-Cors, flask-cachebuster, ffmpy, analytics-python, gradio\n",
            "Successfully installed Flask-Cors-3.0.10 Flask-Login-0.5.0 analytics-python-1.4.0 backoff-1.10.0 bcrypt-3.2.0 cryptography-36.0.0 ffmpy-0.3.0 flask-cachebuster-1.0.0 gradio-2.4.6 markdown2-2.4.1 monotonic-1.6 paramiko-2.8.0 pycryptodome-3.11.0 pydub-0.25.1 pynacl-1.4.0\n"
          ]
        }
      ]
    },
    {
      "cell_type": "code",
      "metadata": {
        "id": "dVYEa3LP5Bjw"
      },
      "source": [
        "import gradio as gr\n",
        "import tensorflow"
      ],
      "execution_count": 2,
      "outputs": []
    },
    {
      "cell_type": "code",
      "metadata": {
        "id": "OldTth0S5Fkg"
      },
      "source": [
        "model = tensorflow.keras.models.load_model('/content/drive/MyDrive/Colab Notebooks/LCC/number.h5')"
      ],
      "execution_count": 3,
      "outputs": []
    },
    {
      "cell_type": "code",
      "metadata": {
        "id": "r-Its4hu55XR"
      },
      "source": [
        "def mnist(image):\n",
        "  image = image.reshape(1,784) #寬X高(28x28)\n",
        "  predict = model.predict(image).tolist()[0]\n",
        "  ret = {}\n",
        "  for i in range(10):\n",
        "    ret[str(i)] = predict[i]\n",
        "  return ret"
      ],
      "execution_count": 4,
      "outputs": []
    },
    {
      "cell_type": "code",
      "metadata": {
        "id": "xWnGdfKp8w2p"
      },
      "source": [
        "grObj = gr.Interface(fn = mnist, inputs = 'sketchpad', outputs = gr.outputs.Label(num_top_classes = 3)) # inputs 手寫板"
      ],
      "execution_count": 5,
      "outputs": []
    },
    {
      "cell_type": "code",
      "metadata": {
        "colab": {
          "base_uri": "https://localhost:8080/",
          "height": 648
        },
        "id": "Mhxm0aXv-GYZ",
        "outputId": "3bae6b4c-47f1-4c57-c70e-403174d1c58d"
      },
      "source": [
        "grObj.launch()"
      ],
      "execution_count": 6,
      "outputs": [
        {
          "output_type": "stream",
          "name": "stdout",
          "text": [
            "Colab notebook detected. To show errors in colab notebook, set `debug=True` in `launch()`\n",
            "Running on public URL: https://44377.gradio.app\n",
            "\n",
            "This share link will expire in 72 hours. To get longer links, send an email to: support@gradio.app\n"
          ]
        },
        {
          "output_type": "display_data",
          "data": {
            "text/html": [
              "\n",
              "        <iframe\n",
              "            width=\"900\"\n",
              "            height=\"500\"\n",
              "            src=\"https://44377.gradio.app\"\n",
              "            frameborder=\"0\"\n",
              "            allowfullscreen\n",
              "        ></iframe>\n",
              "        "
            ],
            "text/plain": [
              "<IPython.lib.display.IFrame at 0x7fed6eb1b7d0>"
            ]
          },
          "metadata": {}
        },
        {
          "output_type": "execute_result",
          "data": {
            "text/plain": [
              "(<Flask 'gradio.networking'>,\n",
              " 'http://127.0.0.1:7860/',\n",
              " 'https://44377.gradio.app')"
            ]
          },
          "metadata": {},
          "execution_count": 6
        }
      ]
    }
  ]
}